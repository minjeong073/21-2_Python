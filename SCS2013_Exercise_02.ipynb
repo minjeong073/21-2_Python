{
  "nbformat": 4,
  "nbformat_minor": 0,
  "metadata": {
    "colab": {
      "name": "SCS2013_Exercise_02.ipynb",
      "provenance": [],
      "collapsed_sections": [],
      "toc_visible": true,
      "include_colab_link": true
    },
    "kernelspec": {
      "name": "python3",
      "display_name": "Python 3"
    },
    "language_info": {
      "name": "python"
    }
  },
  "cells": [
    {
      "cell_type": "markdown",
      "metadata": {
        "id": "view-in-github",
        "colab_type": "text"
      },
      "source": [
        "<a href=\"https://colab.research.google.com/github/minjeong073/21-2_Python/blob/main/SCS2013_Exercise_02.ipynb\" target=\"_parent\"><img src=\"https://colab.research.google.com/assets/colab-badge.svg\" alt=\"Open In Colab\"/></a>"
      ]
    },
    {
      "cell_type": "markdown",
      "metadata": {
        "id": "EzZiRhCEg1JC"
      },
      "source": [
        "# SCS22013 Exercise 02 \n",
        "\n",
        "**This exercise notebook will go through the basic data types in Python:**\n",
        "\n",
        "* Numbers (Numeric)\n",
        "  * Integers (정수형)\n",
        "  * Floating Points (실수형)\n",
        "* Strings (문자열)\n",
        "* Booleans (불)\n",
        "\n"
      ]
    },
    {
      "cell_type": "markdown",
      "metadata": {
        "id": "SILcODfCinqu"
      },
      "source": [
        "## ``print()`` and Comments (``#``)\n",
        "\n",
        "Before start, let's print 'Hello'. \n",
        "\n",
        "**``print()``** is used to display information to the user: It does not change values, variables, functions - just simply displays.\n",
        "\n",
        "* Usage ``print()``: if we want to print a text, it should be in quotes `` '' `` or `` \"\"``.\n",
        "\n",
        "* We can print multiple values by separating them with commans `,`.\n",
        "\n",
        "* ``#`` symbol is used to put **comments** in your code. The comments don't get executed. "
      ]
    },
    {
      "cell_type": "code",
      "metadata": {
        "colab": {
          "base_uri": "https://localhost:8080/"
        },
        "id": "zjwZhgjJilkN",
        "outputId": "a66a2859-0084-4ba6-f2ed-1c106034624d"
      },
      "source": [
        "print('Hello!')\n",
        "print('SCS2013 Exercise 02')\n",
        "print('Hello!', 'SCS2013', 'Exercise 02')"
      ],
      "execution_count": null,
      "outputs": [
        {
          "output_type": "stream",
          "name": "stdout",
          "text": [
            "Hello!\n",
            "SCS2013 Exercise 02\n",
            "Hello! SCS2013 Exercise 02\n"
          ]
        }
      ]
    },
    {
      "cell_type": "markdown",
      "metadata": {
        "id": "Zz0wt1-VhNl4"
      },
      "source": [
        "## Variables (변수)\n",
        "\n",
        "**Variable** is a space in the computer's memory where we can store data (number, text, ...). We use variable in Python to hold and manipulate values. Python does not require to declare a variable before use it. All we need is **assign** a variable a value. (**dynamically typed**)\n",
        "\n",
        "Variable *name* & Variable *value* \n",
        "\n",
        "All we need is to provide a variable name and assign it some value: using **'='** operator.\n",
        "  * e.g.: ``my_num = 123``\n",
        "  * A variable named ``my_num`` was created\n",
        "  * The value ``123`` was assigned to the variable ``my_num``"
      ]
    },
    {
      "cell_type": "code",
      "metadata": {
        "id": "SYITcvmbgfJ6"
      },
      "source": [
        "my_num = 123"
      ],
      "execution_count": null,
      "outputs": []
    },
    {
      "cell_type": "code",
      "metadata": {
        "colab": {
          "base_uri": "https://localhost:8080/"
        },
        "id": "NtugJmkehfyi",
        "outputId": "1249c52f-8ca9-42fe-a525-a71a454bea37"
      },
      "source": [
        "my_num"
      ],
      "execution_count": null,
      "outputs": [
        {
          "output_type": "execute_result",
          "data": {
            "text/plain": [
              "123"
            ]
          },
          "metadata": {},
          "execution_count": 2
        }
      ]
    },
    {
      "cell_type": "code",
      "metadata": {
        "colab": {
          "base_uri": "https://localhost:8080/"
        },
        "id": "sSOiyYrAhgS2",
        "outputId": "f8965b23-371d-40fa-ded3-664c95f0aa9f"
      },
      "source": [
        "my_num + my_num"
      ],
      "execution_count": null,
      "outputs": [
        {
          "output_type": "execute_result",
          "data": {
            "text/plain": [
              "246"
            ]
          },
          "metadata": {},
          "execution_count": 3
        }
      ]
    },
    {
      "cell_type": "code",
      "metadata": {
        "colab": {
          "base_uri": "https://localhost:8080/"
        },
        "id": "5z7avZQnhhba",
        "outputId": "1a6430d6-d3d3-4f73-a40e-64824c1839f9"
      },
      "source": [
        "print(my_num)"
      ],
      "execution_count": null,
      "outputs": [
        {
          "output_type": "stream",
          "name": "stdout",
          "text": [
            "123\n"
          ]
        }
      ]
    },
    {
      "cell_type": "code",
      "metadata": {
        "id": "BPf9BlnbhiFp"
      },
      "source": [
        "my_num = 12.3"
      ],
      "execution_count": null,
      "outputs": []
    },
    {
      "cell_type": "code",
      "metadata": {
        "colab": {
          "base_uri": "https://localhost:8080/"
        },
        "id": "RW8S6Ukphj9U",
        "outputId": "f04f0eb0-0d85-4d09-da06-a3550a83a458"
      },
      "source": [
        "my_num"
      ],
      "execution_count": null,
      "outputs": [
        {
          "output_type": "execute_result",
          "data": {
            "text/plain": [
              "12.3"
            ]
          },
          "metadata": {},
          "execution_count": 9
        }
      ]
    },
    {
      "cell_type": "markdown",
      "metadata": {
        "id": "U7cAm4nZx7vw"
      },
      "source": [
        "### Variable names \n",
        "\n",
        "Python allows you to name variables to your liking, as long as the names follow the rules:\n",
        "\n",
        "* variable names may contain letters, digits (0-9) or the underscore character `_`\n",
        "* variable names must begin with a letter from A-Z or the underscore `_`\n",
        "* variable names may not be a reserved word in Python: e.g., `and`\n"
      ]
    },
    {
      "cell_type": "code",
      "metadata": {
        "colab": {
          "base_uri": "https://localhost:8080/"
        },
        "id": "dVvWELrRhkZw",
        "outputId": "4f0fbe16-ea94-49a4-d41f-02ffecaa8147"
      },
      "source": [
        "fish = 1\n",
        "fish"
      ],
      "execution_count": null,
      "outputs": [
        {
          "output_type": "execute_result",
          "data": {
            "text/plain": [
              "1"
            ]
          },
          "metadata": {},
          "execution_count": 1
        }
      ]
    },
    {
      "cell_type": "code",
      "metadata": {
        "colab": {
          "base_uri": "https://localhost:8080/"
        },
        "id": "8jIp0esoDs8K",
        "outputId": "ca412839-e4e2-4f0c-a038-7d18dc6c2b13"
      },
      "source": [
        "a = 2\n",
        "a"
      ],
      "execution_count": null,
      "outputs": [
        {
          "output_type": "execute_result",
          "data": {
            "text/plain": [
              "2"
            ]
          },
          "metadata": {},
          "execution_count": 2
        }
      ]
    },
    {
      "cell_type": "code",
      "metadata": {
        "colab": {
          "base_uri": "https://localhost:8080/"
        },
        "id": "pG3cyYH0Dt1d",
        "outputId": "b5870f85-ec0f-4dfa-f1df-ff3e740c1c0a"
      },
      "source": [
        "_uvar_ = 3\n",
        "_uvar_"
      ],
      "execution_count": null,
      "outputs": [
        {
          "output_type": "execute_result",
          "data": {
            "text/plain": [
              "3"
            ]
          },
          "metadata": {},
          "execution_count": 3
        }
      ]
    },
    {
      "cell_type": "code",
      "metadata": {
        "colab": {
          "base_uri": "https://localhost:8080/"
        },
        "id": "JG-05-STDzbY",
        "outputId": "80ddf1e2-7c3e-4277-d0aa-249e9f3460d4"
      },
      "source": [
        "a21 = 4\n",
        "a21"
      ],
      "execution_count": null,
      "outputs": [
        {
          "output_type": "execute_result",
          "data": {
            "text/plain": [
              "4"
            ]
          },
          "metadata": {},
          "execution_count": 4
        }
      ]
    },
    {
      "cell_type": "code",
      "metadata": {
        "colab": {
          "base_uri": "https://localhost:8080/"
        },
        "id": "zhjLrsdZD1NK",
        "outputId": "99716544-8cff-4c30-a049-7caec24f73b1"
      },
      "source": [
        "long_var_name_is_okay = 5\n",
        "long_var_name_is_okay"
      ],
      "execution_count": null,
      "outputs": [
        {
          "output_type": "execute_result",
          "data": {
            "text/plain": [
              "5"
            ]
          },
          "metadata": {},
          "execution_count": 5
        }
      ]
    },
    {
      "cell_type": "code",
      "metadata": {
        "colab": {
          "base_uri": "https://localhost:8080/",
          "height": 35
        },
        "id": "olVPcpcAD_h2",
        "outputId": "1513b3b0-20f9-4857-a044-78781f08b4e2"
      },
      "source": [
        "RemoteAddress = '1.2.3.4'\n",
        "RemoteAddress"
      ],
      "execution_count": null,
      "outputs": [
        {
          "output_type": "execute_result",
          "data": {
            "application/vnd.google.colaboratory.intrinsic+json": {
              "type": "string"
            },
            "text/plain": [
              "'1.2.3.4'"
            ]
          },
          "metadata": {},
          "execution_count": 6
        }
      ]
    },
    {
      "cell_type": "code",
      "metadata": {
        "colab": {
          "base_uri": "https://localhost:8080/",
          "height": 131
        },
        "id": "4QKICLJ8EENb",
        "outputId": "4f5ec501-3c7e-44b5-8048-45e422a4735d"
      },
      "source": [
        "`ticked = 1\n",
        "`ticked"
      ],
      "execution_count": null,
      "outputs": [
        {
          "output_type": "error",
          "ename": "SyntaxError",
          "evalue": "ignored",
          "traceback": [
            "\u001b[0;36m  File \u001b[0;32m\"<ipython-input-7-17ecb19b401b>\"\u001b[0;36m, line \u001b[0;32m1\u001b[0m\n\u001b[0;31m    `ticked = 1\u001b[0m\n\u001b[0m    ^\u001b[0m\n\u001b[0;31mSyntaxError\u001b[0m\u001b[0;31m:\u001b[0m invalid syntax\n"
          ]
        }
      ]
    },
    {
      "cell_type": "code",
      "metadata": {
        "colab": {
          "base_uri": "https://localhost:8080/",
          "height": 131
        },
        "id": "TD8cPDNXEMvG",
        "outputId": "72e72d15-5d6b-4d12-f206-abad6fc1dfaf"
      },
      "source": [
        "21a = 'start with num'\n",
        "21a"
      ],
      "execution_count": null,
      "outputs": [
        {
          "output_type": "error",
          "ename": "SyntaxError",
          "evalue": "ignored",
          "traceback": [
            "\u001b[0;36m  File \u001b[0;32m\"<ipython-input-8-a23af9c160ef>\"\u001b[0;36m, line \u001b[0;32m1\u001b[0m\n\u001b[0;31m    21a = 'start with num'\u001b[0m\n\u001b[0m      ^\u001b[0m\n\u001b[0;31mSyntaxError\u001b[0m\u001b[0;31m:\u001b[0m invalid syntax\n"
          ]
        }
      ]
    },
    {
      "cell_type": "code",
      "metadata": {
        "colab": {
          "base_uri": "https://localhost:8080/",
          "height": 131
        },
        "id": "IoB_l451EWz2",
        "outputId": "4e433511-2577-4a69-eb7e-763438e20fe5"
      },
      "source": [
        "and = 21\n",
        "and"
      ],
      "execution_count": null,
      "outputs": [
        {
          "output_type": "error",
          "ename": "SyntaxError",
          "evalue": "ignored",
          "traceback": [
            "\u001b[0;36m  File \u001b[0;32m\"<ipython-input-11-4e0481f67cb0>\"\u001b[0;36m, line \u001b[0;32m1\u001b[0m\n\u001b[0;31m    and = 21\u001b[0m\n\u001b[0m      ^\u001b[0m\n\u001b[0;31mSyntaxError\u001b[0m\u001b[0;31m:\u001b[0m invalid syntax\n"
          ]
        }
      ]
    },
    {
      "cell_type": "markdown",
      "metadata": {
        "id": "BOrwnloAGala"
      },
      "source": [
        "As a reference, Python's *reserved words* list includes:\n",
        "\n",
        "``and, as, if, for, import, in, is, break, True, while, ... ``"
      ]
    },
    {
      "cell_type": "markdown",
      "metadata": {
        "id": "qYAH5OxnGuO4"
      },
      "source": [
        "## Data Types (자료형)\n",
        "\n",
        "Python supports numerical data types: \n",
        "* **integer (정수형)**: number without decimal point\n",
        "* **floating point (실수형)**: number with decimal point\n",
        "\n",
        "and also supports text data type:\n",
        "* **string (문자열)**: text\n",
        "\n",
        "and boolean data type:\n",
        "* **bool (불)**: conditional statements True (참) / False (거짓)\n",
        "\n",
        "Python tracks the **type** of the value assigned to a variable. \n",
        "\n",
        "* ``type()``: Check what the value type is\n",
        "\n",
        " "
      ]
    },
    {
      "cell_type": "code",
      "metadata": {
        "colab": {
          "base_uri": "https://localhost:8080/"
        },
        "id": "c-lUDr3qF8tT",
        "outputId": "900de5f6-7846-4df0-ca4f-953fc8a10e58"
      },
      "source": [
        "x = 12\n",
        "print(type(x))"
      ],
      "execution_count": null,
      "outputs": [
        {
          "output_type": "stream",
          "name": "stdout",
          "text": [
            "<class 'int'>\n"
          ]
        }
      ]
    },
    {
      "cell_type": "code",
      "metadata": {
        "colab": {
          "base_uri": "https://localhost:8080/"
        },
        "id": "i1obUDfpfgy2",
        "outputId": "622b9fac-10a3-4b34-c05a-8434e0a55978"
      },
      "source": [
        "x = 12.0\n",
        "print(type(x))"
      ],
      "execution_count": null,
      "outputs": [
        {
          "output_type": "stream",
          "name": "stdout",
          "text": [
            "<class 'float'>\n"
          ]
        }
      ]
    },
    {
      "cell_type": "code",
      "metadata": {
        "colab": {
          "base_uri": "https://localhost:8080/"
        },
        "id": "7zI5Ar6nfdaR",
        "outputId": "8e072415-6dff-47af-fde0-8ce3f66d5040"
      },
      "source": [
        "x = 'Hello'\n",
        "print(type(x))"
      ],
      "execution_count": null,
      "outputs": [
        {
          "output_type": "stream",
          "name": "stdout",
          "text": [
            "<class 'str'>\n"
          ]
        }
      ]
    },
    {
      "cell_type": "code",
      "metadata": {
        "colab": {
          "base_uri": "https://localhost:8080/"
        },
        "id": "UHuWpbYjfkB0",
        "outputId": "1b42f38f-fded-4c0d-c7e8-3c5d9f271b35"
      },
      "source": [
        "x = False\n",
        "print(type(x))"
      ],
      "execution_count": null,
      "outputs": [
        {
          "output_type": "stream",
          "name": "stdout",
          "text": [
            "<class 'bool'>\n"
          ]
        }
      ]
    },
    {
      "cell_type": "markdown",
      "metadata": {
        "id": "yBr-7dwzhW1X"
      },
      "source": [
        "The way of converting variables to different types is to use ``int()``, ``float()`` or ``str()``. "
      ]
    },
    {
      "cell_type": "code",
      "metadata": {
        "colab": {
          "base_uri": "https://localhost:8080/"
        },
        "id": "CIDnYckGfmLm",
        "outputId": "9bcfcfcc-0945-4309-98c8-85ecfb28d816"
      },
      "source": [
        "x = 12\n",
        "print(type(x))\n",
        "print(x)\n",
        "\n",
        "print(type(float(x)))\n",
        "print(float(x))"
      ],
      "execution_count": null,
      "outputs": [
        {
          "output_type": "stream",
          "name": "stdout",
          "text": [
            "<class 'int'>\n",
            "12\n",
            "<class 'float'>\n",
            "12.0\n"
          ]
        }
      ]
    },
    {
      "cell_type": "code",
      "metadata": {
        "colab": {
          "base_uri": "https://localhost:8080/"
        },
        "id": "Z-doiLOthmhk",
        "outputId": "b7571727-23da-4fd1-b877-bc3bffd74028"
      },
      "source": [
        "x = 12\n",
        "print(type(x))\n",
        "print(x)\n",
        "\n",
        "print(type(str(x)))\n",
        "print(str(x))"
      ],
      "execution_count": null,
      "outputs": [
        {
          "output_type": "stream",
          "name": "stdout",
          "text": [
            "<class 'int'>\n",
            "12\n",
            "<class 'str'>\n",
            "12\n"
          ]
        }
      ]
    },
    {
      "cell_type": "code",
      "metadata": {
        "colab": {
          "base_uri": "https://localhost:8080/",
          "height": 252
        },
        "id": "htYTfEuohuqe",
        "outputId": "bc890e0e-69b8-4e76-f9ce-6a0d450df351"
      },
      "source": [
        "x = 'hello'\n",
        "print(type(x))\n",
        "print(x)\n",
        "\n",
        "print(type(float(x)))\n",
        "print(float(x))"
      ],
      "execution_count": null,
      "outputs": [
        {
          "output_type": "stream",
          "name": "stdout",
          "text": [
            "<class 'str'>\n",
            "hello\n"
          ]
        },
        {
          "output_type": "error",
          "ename": "ValueError",
          "evalue": "ignored",
          "traceback": [
            "\u001b[0;31m---------------------------------------------------------------------------\u001b[0m",
            "\u001b[0;31mValueError\u001b[0m                                Traceback (most recent call last)",
            "\u001b[0;32m<ipython-input-8-c5d133e743a9>\u001b[0m in \u001b[0;36m<module>\u001b[0;34m()\u001b[0m\n\u001b[1;32m      3\u001b[0m \u001b[0mprint\u001b[0m\u001b[0;34m(\u001b[0m\u001b[0mx\u001b[0m\u001b[0;34m)\u001b[0m\u001b[0;34m\u001b[0m\u001b[0;34m\u001b[0m\u001b[0m\n\u001b[1;32m      4\u001b[0m \u001b[0;34m\u001b[0m\u001b[0m\n\u001b[0;32m----> 5\u001b[0;31m \u001b[0mprint\u001b[0m\u001b[0;34m(\u001b[0m\u001b[0mtype\u001b[0m\u001b[0;34m(\u001b[0m\u001b[0mfloat\u001b[0m\u001b[0;34m(\u001b[0m\u001b[0mx\u001b[0m\u001b[0;34m)\u001b[0m\u001b[0;34m)\u001b[0m\u001b[0;34m)\u001b[0m\u001b[0;34m\u001b[0m\u001b[0;34m\u001b[0m\u001b[0m\n\u001b[0m\u001b[1;32m      6\u001b[0m \u001b[0mprint\u001b[0m\u001b[0;34m(\u001b[0m\u001b[0mfloat\u001b[0m\u001b[0;34m(\u001b[0m\u001b[0mx\u001b[0m\u001b[0;34m)\u001b[0m\u001b[0;34m)\u001b[0m\u001b[0;34m\u001b[0m\u001b[0;34m\u001b[0m\u001b[0m\n",
            "\u001b[0;31mValueError\u001b[0m: could not convert string to float: 'hello'"
          ]
        }
      ]
    },
    {
      "cell_type": "code",
      "metadata": {
        "colab": {
          "base_uri": "https://localhost:8080/"
        },
        "id": "zy2Yi5OzhzKL",
        "outputId": "9981d9bb-3b80-4ab8-c850-cdc5faa2162f"
      },
      "source": [
        "x = '12'\n",
        "print(type(x))\n",
        "print(x)\n",
        "\n",
        "print(type(float(x)))\n",
        "print(float(x))"
      ],
      "execution_count": null,
      "outputs": [
        {
          "output_type": "stream",
          "name": "stdout",
          "text": [
            "<class 'str'>\n",
            "12\n",
            "<class 'float'>\n",
            "12.0\n"
          ]
        }
      ]
    },
    {
      "cell_type": "code",
      "metadata": {
        "colab": {
          "base_uri": "https://localhost:8080/"
        },
        "id": "J9-y-YZv0lY0",
        "outputId": "b56c0136-a5a4-4aba-fe60-4822bc48ebac"
      },
      "source": [
        "x = True\n",
        "print(type(x))\n",
        "print(x)\n",
        "\n",
        "print(type(int(x)))\n",
        "print(int(x))\n",
        "\n",
        "x = False\n",
        "print(type(x))\n",
        "print(x)\n",
        "\n",
        "print(type(int(x)))\n",
        "print(int(x))"
      ],
      "execution_count": null,
      "outputs": [
        {
          "output_type": "stream",
          "name": "stdout",
          "text": [
            "<class 'bool'>\n",
            "True\n",
            "<class 'int'>\n",
            "1\n",
            "<class 'bool'>\n",
            "False\n",
            "<class 'int'>\n",
            "0\n"
          ]
        }
      ]
    },
    {
      "cell_type": "code",
      "metadata": {
        "colab": {
          "base_uri": "https://localhost:8080/"
        },
        "id": "vRYk7b60xx1o",
        "outputId": "b80b3821-6af1-4a41-962c-50608ffe87c3"
      },
      "source": [
        "a = 123\n",
        "b = '20'\n",
        "print(a + int(b))\n",
        "print(a + float(b))"
      ],
      "execution_count": null,
      "outputs": [
        {
          "output_type": "stream",
          "name": "stdout",
          "text": [
            "143\n",
            "143.0\n"
          ]
        }
      ]
    },
    {
      "cell_type": "markdown",
      "metadata": {
        "id": "cnFa10fniX__"
      },
      "source": [
        "## Exercises - Print, Variable and Data Types\n",
        "\n",
        "Let's check out some exercises that will help you understand **print, variables and data types in Python** better."
      ]
    },
    {
      "cell_type": "markdown",
      "metadata": {
        "id": "X0bS5JLeihxH"
      },
      "source": [
        "### E-1\n",
        "\n",
        "Try to print a sentence \"Hello SCS2013 Students! Good to see you!!\" directly - using `print()` function."
      ]
    },
    {
      "cell_type": "code",
      "metadata": {
        "colab": {
          "base_uri": "https://localhost:8080/"
        },
        "id": "qId3QwQbh4GV",
        "outputId": "cc3fe39a-0d5d-40e9-c928-2be44b0665c8"
      },
      "source": [
        "# print a sentence directly \n"
      ],
      "execution_count": null,
      "outputs": [
        {
          "output_type": "stream",
          "name": "stdout",
          "text": [
            "Hello SCS2013 Students! Good to see you!!\n"
          ]
        }
      ]
    },
    {
      "cell_type": "markdown",
      "metadata": {
        "id": "xkH8m_v-lG9S"
      },
      "source": [
        "### E-2\n",
        "\n",
        "Try to assign a sentence \"Hello SCS2013 Students! Good to see you!!\" to the variable `first_text` and print it using `print()` function."
      ]
    },
    {
      "cell_type": "code",
      "metadata": {
        "colab": {
          "base_uri": "https://localhost:8080/"
        },
        "id": "1hTPLr3FkvKR",
        "outputId": "53ca6ba8-4269-4bab-c783-4847baff09a6"
      },
      "source": [
        "# assign the sentence to the variable named `first_text` and print it \n",
        "\n"
      ],
      "execution_count": null,
      "outputs": [
        {
          "output_type": "stream",
          "name": "stdout",
          "text": [
            "Hello SCS2013 Students! Good to see you!!\n"
          ]
        }
      ]
    },
    {
      "cell_type": "markdown",
      "metadata": {
        "id": "Pxu8s55NljnD"
      },
      "source": [
        "### E-3\n",
        "\n",
        "Assign `3` to variable `num_of_boxes`, and see what sentence is printed."
      ]
    },
    {
      "cell_type": "code",
      "metadata": {
        "colab": {
          "base_uri": "https://localhost:8080/"
        },
        "id": "FP_xuTPZk_Yz",
        "outputId": "83f6ec5e-63e1-4013-bb41-b1b73260c0ab"
      },
      "source": [
        "# assign a number 3 to the variable num_of_boxes\n",
        "\n",
        "\n",
        "print('There are', num_of_boxes, 'boxes on the table.')"
      ],
      "execution_count": null,
      "outputs": [
        {
          "output_type": "stream",
          "name": "stdout",
          "text": [
            "There are 3 boxes on the table.\n"
          ]
        }
      ]
    },
    {
      "cell_type": "markdown",
      "metadata": {
        "id": "TOMSbZiioPnD"
      },
      "source": [
        "### E-4\n",
        "\n",
        "Now assign a new value `5.3` to the variable `num_of_boxes` and print the value."
      ]
    },
    {
      "cell_type": "code",
      "metadata": {
        "colab": {
          "base_uri": "https://localhost:8080/"
        },
        "id": "o_Ny_nH3oLw-",
        "outputId": "4590df62-8acc-4fdb-ab6b-c6cd7ab45a1f"
      },
      "source": [
        "# assign a new value 5.3 to the variable and print the value\n",
        "\n",
        "\n",
        "print('Now there are', num_of_boxes, 'boxes on the table?!')"
      ],
      "execution_count": null,
      "outputs": [
        {
          "output_type": "stream",
          "name": "stdout",
          "text": [
            "Now there are 5.3 boxes on the table?!\n"
          ]
        }
      ]
    },
    {
      "cell_type": "markdown",
      "metadata": {
        "id": "9F6RMtAcotz_"
      },
      "source": [
        "### E-5\n",
        "\n",
        "Let's check out **integer** data type. Assign any integer value to the variable `my_int` and print it."
      ]
    },
    {
      "cell_type": "code",
      "metadata": {
        "colab": {
          "base_uri": "https://localhost:8080/"
        },
        "id": "CpLiaqnpoqsc",
        "outputId": "a752f948-02c2-4f16-9399-d6fe964f0732"
      },
      "source": [
        "# assign any integer value to the variable `my_int` and print it\n",
        "\n",
        "\n",
        "print('The value of my_int is', my_int)"
      ],
      "execution_count": null,
      "outputs": [
        {
          "output_type": "stream",
          "name": "stdout",
          "text": [
            "The value of my_int is 123\n"
          ]
        }
      ]
    },
    {
      "cell_type": "markdown",
      "metadata": {
        "id": "IM-WOx06yiSu"
      },
      "source": [
        "### E-6\n",
        "\n",
        "Now check out **string** data type. Assign any string (a short sentence or a couple of words) to the variable `my_str` and print it. \n",
        "\n",
        "* You need to use the quote to make the string data."
      ]
    },
    {
      "cell_type": "code",
      "metadata": {
        "colab": {
          "base_uri": "https://localhost:8080/"
        },
        "id": "YjikoHx4qKTg",
        "outputId": "56ad60c5-df12-4131-fbe7-f15a2000f52c"
      },
      "source": [
        "# assign any short sentence or a couple of words to the variable `my_str and print it\n",
        "\n",
        "\n",
        "print(my_str)"
      ],
      "execution_count": null,
      "outputs": [
        {
          "output_type": "stream",
          "name": "stdout",
          "text": [
            "Exercise for string data type\n"
          ]
        }
      ]
    },
    {
      "cell_type": "markdown",
      "metadata": {
        "id": "jh3XsIgLy-08"
      },
      "source": [
        "### E-7\n",
        "\n",
        "Now, let's try to see what happens after assigning a new value (even a different type) to the existing variable. "
      ]
    },
    {
      "cell_type": "code",
      "metadata": {
        "colab": {
          "base_uri": "https://localhost:8080/"
        },
        "id": "a2I9bt5uy87A",
        "outputId": "548cbcbc-6c92-4c32-a23b-cf7015655054"
      },
      "source": [
        "my_var = 1\n",
        "\n",
        "# print the type of the variable `my_var` \n",
        "print('The original value is', my_var, 'and the type is', type(my_var))\n",
        "\n",
        "# assign any float number to the variable `my_var`\n",
        "\n",
        "print('The updated value is', my_var, 'and the type is', type(my_var))\n",
        "\n",
        "# assign any word to the variable `my_var`\n",
        "\n",
        "print('The updated value is', my_var, 'and the type is', type(my_var))\n",
        "\n",
        "# assign True or False to the variable `my_var` and print it\n",
        "\n",
        "print('The updated value is', my_var, 'and the type is', type(my_var))"
      ],
      "execution_count": null,
      "outputs": [
        {
          "output_type": "stream",
          "name": "stdout",
          "text": [
            "The original value is 1 and the type is <class 'int'>\n",
            "The updated value is 21.36 and the type is <class 'float'>\n",
            "The updated value is Python and the type is <class 'str'>\n",
            "The updated value is True and the type is <class 'bool'>\n"
          ]
        }
      ]
    },
    {
      "cell_type": "markdown",
      "metadata": {
        "id": "W1BFfX4Dq87i"
      },
      "source": [
        "## Python Operators \n",
        "\n",
        "Let's play with Python Operators!\n",
        "\n",
        "* **Assignment** operators: assigning values to variables \n",
        "\n",
        "* **Arithmetic** operators: mathematics operators \n",
        "\n",
        "* **Comparison** operators: constructing a conditional statement \n",
        "\n",
        "* **Membership** operators: checking if a group of values contains a sub-value \n",
        "\n",
        "....\n",
        "\n",
        "\n"
      ]
    },
    {
      "cell_type": "markdown",
      "metadata": {
        "id": "3nU6Z9wvsVYy"
      },
      "source": [
        "### Assignment Operators\n",
        "\n",
        "Let's start with *assignment* operators:\n",
        "\n",
        "* `=`: variable name goes on the left side & the value being assigned goes to the right side\n",
        "\n"
      ]
    },
    {
      "cell_type": "code",
      "metadata": {
        "colab": {
          "base_uri": "https://localhost:8080/",
          "height": 35
        },
        "id": "Rrc5vUN8yDoI",
        "outputId": "b0629d2a-ddb6-4592-e5d8-e6cf2565cfc2"
      },
      "source": [
        "planet = 'Earth'\n",
        "planet"
      ],
      "execution_count": null,
      "outputs": [
        {
          "output_type": "execute_result",
          "data": {
            "application/vnd.google.colaboratory.intrinsic+json": {
              "type": "string"
            },
            "text/plain": [
              "'Earth'"
            ]
          },
          "metadata": {},
          "execution_count": 1
        }
      ]
    },
    {
      "cell_type": "markdown",
      "metadata": {
        "id": "ipDtgwMhst3I"
      },
      "source": [
        "### Arithmetic Operators \n",
        "\n",
        "Used for most basic mathematical operations \n",
        "\n",
        "* `+` Addition: adds values \n",
        "* `-` Subtraction: subtracts values\n",
        "* `*` Multiplication: multiplies values\n",
        "* `/` Division (float): divides the first value by the second value and returns value with decimals\n",
        "* `//` Division (floor): divide two values and returns integers without decimals\n",
        "* `%` Modulus: gives the remainder of a division result\n",
        "* `**` Power: raises the first value to the power of second value "
      ]
    },
    {
      "cell_type": "code",
      "metadata": {
        "colab": {
          "base_uri": "https://localhost:8080/"
        },
        "id": "IeHK7HImyOsm",
        "outputId": "2226ed69-8017-46ef-8a9b-4894f3d1f9d8"
      },
      "source": [
        "a = 5\n",
        "b = 3\n",
        "\n",
        "c = a + b\n",
        "d = a - b\n",
        "e = a * b\n",
        "f = a / b\n",
        "g = a // b\n",
        "h = a % b\n",
        "i = a ** b\n",
        "\n",
        "print('a is', a, 'and b is', b)\n",
        "print('a + b is', c)\n",
        "print('a - b is', d)\n",
        "print('a * b is', e)\n",
        "print('a / b is', f)\n",
        "print('a // b is', g)\n",
        "print('a % b is', h)\n",
        "print('a ** b is', i)"
      ],
      "execution_count": null,
      "outputs": [
        {
          "output_type": "stream",
          "name": "stdout",
          "text": [
            "a is 5 and b is 3\n",
            "a + b is 8\n",
            "a - b is 2\n",
            "a * b is 15\n",
            "a / b is 1.6666666666666667\n",
            "a // b is 1\n",
            "a % b is 2\n",
            "a ** b is 125\n"
          ]
        }
      ]
    },
    {
      "cell_type": "markdown",
      "metadata": {
        "id": "ZhOs09XxuIvK"
      },
      "source": [
        "### Comparison Operators \n",
        "\n",
        "* `==` Equal: returns True if left side is equal to the right side\n",
        "* `!=` Not equal: returns True if left side is not equal to right side\n",
        "* `>` Greater than: returns True if left side is grater than the right side\n",
        "* `<` Less than: returns True if left side is less than the right side\n",
        "* `>=` Greater than or equal to: returns True if left side is grater than or equal to the right side\n",
        "* `<=` Less than: returns True if left side is less than or equal to the right side"
      ]
    },
    {
      "cell_type": "code",
      "metadata": {
        "colab": {
          "base_uri": "https://localhost:8080/"
        },
        "id": "NhSnhf6OzNT4",
        "outputId": "1b5c110a-b08f-4cf3-ae10-41f467d61a45"
      },
      "source": [
        "a = 5\n",
        "b = 3\n",
        "\n",
        "c = a == b\n",
        "d = a != b\n",
        "e = a > b\n",
        "f = a < b\n",
        "g = a >= b\n",
        "h = a <= b\n",
        "\n",
        "print('a is', a, 'and b is', b)\n",
        "print('a == b is', c)\n",
        "print('a != b is', d)\n",
        "print('a > b is', e)\n",
        "print('a < b is', f)\n",
        "print('a >= b is', g)\n",
        "print('a <= b is', h)"
      ],
      "execution_count": null,
      "outputs": [
        {
          "output_type": "stream",
          "name": "stdout",
          "text": [
            "a is 5 and b is 3\n",
            "a == b is False\n",
            "a != b is True\n",
            "a > b is True\n",
            "a < b is False\n",
            "a >= b is True\n",
            "a <= b is False\n"
          ]
        }
      ]
    },
    {
      "cell_type": "markdown",
      "metadata": {
        "id": "CJdpjPg9t5EV"
      },
      "source": [
        "### Logical Operators \n",
        "\n",
        "* `and` logical AND: returns True when both operatnds are True \n",
        "* `or` logical OR: returns True if at least one of the operands is True\n",
        "* `not` logical NOT: returns True if operand is False"
      ]
    },
    {
      "cell_type": "code",
      "metadata": {
        "colab": {
          "base_uri": "https://localhost:8080/"
        },
        "id": "dQU6gTttz4_H",
        "outputId": "e2655699-e386-41de-c713-841f3a62b373"
      },
      "source": [
        "x = 5\n",
        "print(x > 3 and x < 10)"
      ],
      "execution_count": null,
      "outputs": [
        {
          "output_type": "stream",
          "name": "stdout",
          "text": [
            "True\n"
          ]
        }
      ]
    },
    {
      "cell_type": "code",
      "metadata": {
        "colab": {
          "base_uri": "https://localhost:8080/"
        },
        "id": "tGYX5ElRz9FG",
        "outputId": "d81425bb-6df7-4110-cb54-5b446c9cc01d"
      },
      "source": [
        "x = 15\n",
        "print(x > 3 and x < 10)"
      ],
      "execution_count": null,
      "outputs": [
        {
          "output_type": "stream",
          "name": "stdout",
          "text": [
            "False\n"
          ]
        }
      ]
    },
    {
      "cell_type": "code",
      "metadata": {
        "colab": {
          "base_uri": "https://localhost:8080/"
        },
        "id": "UMg59S0B0IG2",
        "outputId": "615f85b6-97c5-460f-d078-ae53209c9824"
      },
      "source": [
        "x = 5\n",
        "print(x > 3 or x < 4)"
      ],
      "execution_count": null,
      "outputs": [
        {
          "output_type": "stream",
          "name": "stdout",
          "text": [
            "True\n"
          ]
        }
      ]
    },
    {
      "cell_type": "code",
      "metadata": {
        "colab": {
          "base_uri": "https://localhost:8080/"
        },
        "id": "ZGQZE8z00Mm4",
        "outputId": "8e755e9b-aff9-45b9-f717-bd9ecbb8e16b"
      },
      "source": [
        "x = 5\n",
        "print(x < 2 or x > 6)"
      ],
      "execution_count": null,
      "outputs": [
        {
          "output_type": "stream",
          "name": "stdout",
          "text": [
            "False\n"
          ]
        }
      ]
    },
    {
      "cell_type": "markdown",
      "metadata": {
        "id": "v2Dh2avEwM7-"
      },
      "source": [
        "### Membership Operators / Identity Operators \n",
        "\n",
        "* `in`: return True if an object is in another object\n",
        "* `not in`: return True if an object is not in another object\n",
        "\n",
        "* `is`: tells if two objects are identical\n",
        "* `is not`: tells if two objects are not identical\n",
        "\n",
        "**Note** that `is` returns False if it is not the same object, even if they have the same content \n"
      ]
    },
    {
      "cell_type": "code",
      "metadata": {
        "colab": {
          "base_uri": "https://localhost:8080/"
        },
        "id": "SQgs4iWp08ff",
        "outputId": "2b17bda6-9ff2-4432-f4cf-4e1c01d7adb1"
      },
      "source": [
        "x = ['apple', 'banana']\n",
        "print('apple' in x)\n",
        "print('pear' in x)"
      ],
      "execution_count": null,
      "outputs": [
        {
          "output_type": "stream",
          "name": "stdout",
          "text": [
            "True\n",
            "False\n"
          ]
        }
      ]
    },
    {
      "cell_type": "code",
      "metadata": {
        "colab": {
          "base_uri": "https://localhost:8080/"
        },
        "id": "c53am3VZ0Y3D",
        "outputId": "b17d791f-d086-4ce0-dddf-72952275f461"
      },
      "source": [
        "x = ['apple', 'banana']\n",
        "y = ['apple', 'banana']\n",
        "z = x\n",
        "\n",
        "print(x is y)\n",
        "print(x is z)\n",
        "print(x == y)"
      ],
      "execution_count": null,
      "outputs": [
        {
          "output_type": "stream",
          "name": "stdout",
          "text": [
            "False\n",
            "True\n",
            "True\n"
          ]
        }
      ]
    },
    {
      "cell_type": "markdown",
      "metadata": {
        "id": "WzwrNVJvxSBw"
      },
      "source": [
        "### More Assignment Operators \n",
        "\n",
        "* `+=`: adding values and assigning it: `a+=b` instead of `a=a+b`\n",
        "* Similarly, we can use `-=`, `*=`, `/=`, `%=`, `//=`, `**=`, ... "
      ]
    },
    {
      "cell_type": "code",
      "metadata": {
        "colab": {
          "base_uri": "https://localhost:8080/"
        },
        "id": "jBL13D4N0Gd0",
        "outputId": "931fdaf2-70b4-4be1-bbf6-8be348f016ac"
      },
      "source": [
        "x = 5\n",
        "print('x is', x)\n",
        "\n",
        "x += 3\n",
        "print('x += 3 is', x)\n",
        "\n",
        "x -= 2\n",
        "print('x += 2 is', x)\n",
        "\n",
        "x *= 1.5\n",
        "print('x *= 1.5 is', x)\n",
        "\n",
        "x /= 1.25\n",
        "print('x /= 1.25 is', x)\n",
        "\n",
        "x //= 3\n",
        "print('x //= 3 is', x)\n",
        "\n",
        "x **= 4\n",
        "print('x **= 4 is', x)"
      ],
      "execution_count": null,
      "outputs": [
        {
          "output_type": "stream",
          "name": "stdout",
          "text": [
            "x is 5\n",
            "x += 3 is 8\n",
            "x += 2 is 6\n",
            "x *= 1.5 is 9.0\n",
            "x /= 1.25 is 7.2\n",
            "x //= 3 is 2.0\n",
            "x **= 4 is 16.0\n"
          ]
        }
      ]
    },
    {
      "cell_type": "markdown",
      "metadata": {
        "id": "ksarjLiG2VHy"
      },
      "source": [
        "## Exercises - Python Operators\n",
        "\n",
        "Let's check out some exercises that will help you understand **operators in Python** better."
      ]
    },
    {
      "cell_type": "markdown",
      "metadata": {
        "id": "vlvMQsEe24Da"
      },
      "source": [
        "### E-1\n",
        "\n",
        "Multiply 10 with 5 and print the result.\n",
        "\n",
        "Divide 10 by 2 and print the result."
      ]
    },
    {
      "cell_type": "code",
      "metadata": {
        "colab": {
          "base_uri": "https://localhost:8080/"
        },
        "id": "RB7tXiXn1S_k",
        "outputId": "1fe1aa5d-8ccd-48fc-c484-b64f36b35d4c"
      },
      "source": [
        "# multiply 10 with 5\n",
        "a = \n",
        "print(a)"
      ],
      "execution_count": null,
      "outputs": [
        {
          "output_type": "stream",
          "name": "stdout",
          "text": [
            "50\n"
          ]
        }
      ]
    },
    {
      "cell_type": "code",
      "metadata": {
        "colab": {
          "base_uri": "https://localhost:8080/"
        },
        "id": "Y7LghLcC3BWM",
        "outputId": "f37b092f-3d6c-47f3-dec0-9b2fedc76521"
      },
      "source": [
        "# divide 10 by 2 \n",
        "a = \n",
        "print(a)"
      ],
      "execution_count": null,
      "outputs": [
        {
          "output_type": "stream",
          "name": "stdout",
          "text": [
            "5.0\n"
          ]
        }
      ]
    },
    {
      "cell_type": "markdown",
      "metadata": {
        "id": "JW_EObru3TIk"
      },
      "source": [
        "### E-2\n",
        "\n",
        "Use the correct membership operator to check 1) if `'apple'` is present in the `fruits` object, 2) if `'milk'` is present in the `fruits`"
      ]
    },
    {
      "cell_type": "code",
      "metadata": {
        "colab": {
          "base_uri": "https://localhost:8080/"
        },
        "id": "qoyYU8-i3Mo-",
        "outputId": "f8dac026-fb5a-4b27-c8da-08c510311e79"
      },
      "source": [
        "fruits = ['apple', 'banana', 'melon']\n",
        "\n",
        "# check if 'apple' is present in the `fruits` object\n",
        "a = \n",
        "print('apple is a fruit:', a)\n",
        "\n",
        "# check if 'apple' is present in the `fruits` object\n",
        "b = \n",
        "print('milk is a fruit:', b)"
      ],
      "execution_count": null,
      "outputs": [
        {
          "output_type": "stream",
          "name": "stdout",
          "text": [
            "apple is a fruit: True\n",
            "milk is a fruit: False\n"
          ]
        }
      ]
    },
    {
      "cell_type": "markdown",
      "metadata": {
        "id": "EM8YiQnz38xU"
      },
      "source": [
        "### E-3\n",
        "\n",
        "Use the comparison operator to check if `5` is **not equal** to 21"
      ]
    },
    {
      "cell_type": "code",
      "metadata": {
        "colab": {
          "base_uri": "https://localhost:8080/"
        },
        "id": "nRqWNzCj3qc5",
        "outputId": "a77d3042-0bba-45a3-fd41-f8d70f0a95de"
      },
      "source": [
        "# check if 5 is not equal to 21\n",
        "print('5 and 21 is not equal:', )"
      ],
      "execution_count": null,
      "outputs": [
        {
          "output_type": "stream",
          "name": "stdout",
          "text": [
            "5 and 21 is not equal: True\n"
          ]
        }
      ]
    },
    {
      "cell_type": "markdown",
      "metadata": {
        "id": "c2W5kbIf5Bmw"
      },
      "source": [
        "### E-4\n",
        "\n",
        "Check if `x` is a multiple of 4 or 7\n",
        "\n"
      ]
    },
    {
      "cell_type": "code",
      "metadata": {
        "colab": {
          "base_uri": "https://localhost:8080/"
        },
        "id": "uLgPHhjI5Z1p",
        "outputId": "748a936b-3b31-48e4-8cd0-0a85317025c5"
      },
      "source": [
        "x = 12\n",
        "\n",
        "# check 1) x is a multiple of 4, 2) x is a multiple of 7, 3) x is a multiple of 4 or 7\n",
        "check_4 = \n",
        "check_7 = \n",
        "check = \n",
        "\n",
        "print('x', x, 'is a multiple of 4 or multiple of 7:', check)\n",
        "\n",
        "\n",
        "x = 15\n",
        "\n",
        "check_4 = \n",
        "check_7 = \n",
        "check = \n",
        "\n",
        "print('x', x, 'is a multiple of 4 or multiple of 7:', check)"
      ],
      "execution_count": null,
      "outputs": [
        {
          "output_type": "stream",
          "name": "stdout",
          "text": [
            "x 12 is a multiple of 4 or multiple of 7: True\n",
            "x 15 is a multiple of 4 or multiple of 7: False\n"
          ]
        }
      ]
    }
  ]
}